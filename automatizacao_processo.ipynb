{
 "cells": [
  {
   "cell_type": "code",
   "execution_count": null,
   "metadata": {},
   "outputs": [],
   "source": [
    "# Obter dados de forma automática\n",
    "# Instalar o yahoo finanças - pip install yfinance\n",
    "\n",
    "import yfinance\n",
    "\n",
    "# Buscando cotação de uma ação\n",
    "\n",
    "ticker = input(\"Informe o código da ação: \")\n",
    "dados = yfinance.Ticker(ticker).history(\"6mo\")\n"
   ]
  },
  {
   "cell_type": "code",
   "execution_count": null,
   "metadata": {},
   "outputs": [],
   "source": [
    "# Configurando período do histórico\n",
    "# Ano = y / Mês = 6mo \n",
    "#tabela = dados.history(\"6mo\")\n",
    "#tabela\n",
    "\n",
    "# Selecionar apenas colunas de fechamentos\n",
    "fechamento = dados.Close\n",
    "# Gerando um gráfico\n",
    "fechamento.plot()\n",
    "\n"
   ]
  },
  {
   "cell_type": "code",
   "execution_count": null,
   "metadata": {},
   "outputs": [],
   "source": [
    "# Gerando as estatisticas max,min e atual cotação\n",
    "\n",
    "cotacao_maxima = fechamento.max()\n",
    "cotacao_minima = fechamento.min()\n",
    "cotacao_atual = fechamento[-1]\n",
    "\n",
    "print(cotacao_maxima)\n",
    "print(cotacao_minima)\n",
    "print(cotacao_atual)"
   ]
  },
  {
   "cell_type": "code",
   "execution_count": null,
   "metadata": {},
   "outputs": [],
   "source": [
    "# Enviando e-mail de forma automática\n",
    "# instalar bibliotecas pip install pyautogui e pip install pyperclip\n",
    "\n",
    "import pyautogui\n",
    "import pyperclip\n",
    "\n",
    "#Criando os dados que vão ser encaminhados por e-mail\n",
    "\n",
    "destinatario = \"emailaqui@gmail.com\"\n",
    "assunto = \"Analise diária\"\n",
    "\n",
    "mensagem = f\"\"\"\n",
    "Boa noite, \n",
    "\n",
    "segue as análises da ação {ticker} dos últimos seis meses:\n",
    "\n",
    "Cotação máxima: {round(cotacao_maxima,2)}\n",
    "Cotação mínima: {round(cotacao_minima,2)}\n",
    "Cotação máxima: {round(cotacao_atual,2)}\n",
    "\n",
    "Atenciosamente, \n",
    "Pam Canale\n",
    "\"\"\""
   ]
  },
  {
   "cell_type": "code",
   "execution_count": null,
   "metadata": {},
   "outputs": [],
   "source": [
    "# Automatizar envio do e-mail\n",
    "import pyautogui\n",
    "import pyperclip\n",
    "\n",
    "# configurar uma pausa entre as ações do pyautogui\n",
    "pyautogui.PAUSE = 2\n",
    "\n",
    "#clicando no botão do chrome\n",
    "pyautogui.click(x = 515, y = 745)\n",
    "\n",
    "pyautogui.PAUSE = 2\n",
    "\n",
    "# Abrir uma nova janela\n",
    "pyautogui.hotkey(\"ctrl\", \"t\")\n",
    "\n",
    "# copiar o endereço do gmail para o clipboard\n",
    "pyperclip.copy(\"www.gmail.com\")\n",
    "\n",
    "# Colar o endereço de e-mail e dar entrer\n",
    "pyautogui.hotkey(\"ctrl\", \"v\")\n",
    "pyautogui.press(\"enter\")\n",
    "\n",
    "# Clicar no botão escrever\n",
    "pyautogui.click(x = 89, y = 189)\n",
    "pyautogui.PAUSE = 3\n",
    "\n",
    "# Preencher destinatário\n",
    "pyperclip.copy(\"emailaqui@gmail.com\")\n",
    "pyautogui.hotkey(\"ctrl\", \"v\")\n",
    "pyautogui.press(\"tab\")\n",
    "\n",
    "# Preenchendo assunto \n",
    "pyperclip.copy(assunto)\n",
    "pyautogui.hotkey(\"ctrl\", \"v\")\n",
    "pyautogui.press(\"tab\")\n",
    "\n",
    "# Preenchendo mensagem\n",
    "pyperclip.copy(mensagem)\n",
    "pyautogui.hotkey(\"ctrl\", \"v\")\n",
    "\n",
    "# Clicar no botão de enviar\n",
    "pyautogui.click(x = 840, y = 641)\n",
    "\n",
    "# fechar a aba do gmail\n",
    "#pyautogui.hotkey(\"ctrl\", \"f4\")\n",
    "\n"
   ]
  },
  {
   "cell_type": "code",
   "execution_count": null,
   "metadata": {},
   "outputs": [],
   "source": [
    "import pyautogui\n",
    "import time\n",
    "print('Posicione o MOUSE')\n",
    "time.sleep(2)\n",
    "x, y = pyautogui.position()\n",
    "print (\"Posicao atual do mouse:\")\n",
    "print (\"x = \"+str(x)+\" y = \"+str(y))\n",
    "\n",
    "#retorna Truee se x & y estiverem dentro da tela\n",
    "print (\"\\nEsta dentro da tela?\")\n",
    "resp = pyautogui.onScreen(x, y)\n",
    "print (str(resp))"
   ]
  }
 ],
 "metadata": {
  "kernelspec": {
   "display_name": "Python 3.10.8 64-bit (microsoft store)",
   "language": "python",
   "name": "python3"
  },
  "language_info": {
   "codemirror_mode": {
    "name": "ipython",
    "version": 3
   },
   "file_extension": ".py",
   "mimetype": "text/x-python",
   "name": "python",
   "nbconvert_exporter": "python",
   "pygments_lexer": "ipython3",
   "version": "3.10.8 (tags/v3.10.8:aaaf517, Oct 11 2022, 16:50:30) [MSC v.1933 64 bit (AMD64)]"
  },
  "orig_nbformat": 4,
  "vscode": {
   "interpreter": {
    "hash": "9acfcb64550fa7f774be8bebd7b913d949fb31d88c525492e7a331ec4a6bcdcc"
   }
  }
 },
 "nbformat": 4,
 "nbformat_minor": 2
}
